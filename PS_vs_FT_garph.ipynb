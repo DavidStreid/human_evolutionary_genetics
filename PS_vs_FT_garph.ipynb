{
 "metadata": {
  "name": "",
  "signature": "sha256:534c36aa338f168927216a0e2d3f82f51bf394fd4f2a29f1f46a5d817358841c"
 },
 "nbformat": 3,
 "nbformat_minor": 0,
 "worksheets": [
  {
   "cells": [
    {
     "cell_type": "code",
     "collapsed": false,
     "input": [
      "import matplotlib.pyplot as plt\n",
      "from pylab import *\n",
      "\n",
      "plt.plot([10,20,30,40], [41.9,79.28,129.8,161.9], 'ro')\n",
      "plt.ylabel('Fixation Time (generations)')\n",
      "plt.xlabel('Population Size')\n",
      "plt.title('Population Size versus Fixation Time')\n",
      "plt.show()"
     ],
     "language": "python",
     "metadata": {},
     "outputs": [],
     "prompt_number": 2
    },
    {
     "cell_type": "code",
     "collapsed": false,
     "input": [],
     "language": "python",
     "metadata": {},
     "outputs": []
    }
   ],
   "metadata": {}
  }
 ]
}